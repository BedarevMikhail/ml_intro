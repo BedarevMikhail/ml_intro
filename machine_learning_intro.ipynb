{
 "cells": [
  {
   "cell_type": "markdown",
   "metadata": {},
   "source": [
    "# Рекомендация тарифов"
   ]
  },
  {
   "cell_type": "markdown",
   "metadata": {},
   "source": [
    "В вашем распоряжении данные о поведении клиентов, которые уже перешли на эти тарифы (из проекта курса «Статистический анализ данных»). Нужно построить модель для задачи классификации, которая выберет подходящий тариф. Предобработка данных не понадобится — вы её уже сделали.\n",
    "\n",
    "Постройте модель с максимально большим значением *accuracy*. Чтобы сдать проект успешно, нужно довести долю правильных ответов по крайней мере до 0.75. Проверьте *accuracy* на тестовой выборке самостоятельно."
   ]
  },
  {
   "cell_type": "markdown",
   "metadata": {},
   "source": [
    "## 1.  Откройте и изучите файл"
   ]
  },
  {
   "cell_type": "code",
   "execution_count": 1,
   "metadata": {},
   "outputs": [],
   "source": [
    "import pandas as pd\n",
    "from sklearn.model_selection import train_test_split\n",
    "from sklearn.linear_model import LogisticRegression\n",
    "from sklearn.ensemble import RandomForestClassifier\n",
    "from sklearn.tree import DecisionTreeClassifier\n",
    "from sklearn.metrics import accuracy_score\n"
   ]
  },
  {
   "cell_type": "code",
   "execution_count": 2,
   "metadata": {},
   "outputs": [
    {
     "data": {
      "text/plain": [
       "(3214, 5)"
      ]
     },
     "execution_count": 2,
     "metadata": {},
     "output_type": "execute_result"
    }
   ],
   "source": [
    "users_behavior.shape"
   ]
  },
  {
   "cell_type": "code",
   "execution_count": 3,
   "metadata": {},
   "outputs": [
    {
     "data": {
      "text/html": [
       "<div>\n",
       "<style scoped>\n",
       "    .dataframe tbody tr th:only-of-type {\n",
       "        vertical-align: middle;\n",
       "    }\n",
       "\n",
       "    .dataframe tbody tr th {\n",
       "        vertical-align: top;\n",
       "    }\n",
       "\n",
       "    .dataframe thead th {\n",
       "        text-align: right;\n",
       "    }\n",
       "</style>\n",
       "<table border=\"1\" class=\"dataframe\">\n",
       "  <thead>\n",
       "    <tr style=\"text-align: right;\">\n",
       "      <th></th>\n",
       "      <th>calls</th>\n",
       "      <th>minutes</th>\n",
       "      <th>messages</th>\n",
       "      <th>mb_used</th>\n",
       "      <th>is_ultra</th>\n",
       "    </tr>\n",
       "  </thead>\n",
       "  <tbody>\n",
       "    <tr>\n",
       "      <td>0</td>\n",
       "      <td>40.0</td>\n",
       "      <td>311.90</td>\n",
       "      <td>83.0</td>\n",
       "      <td>19915.42</td>\n",
       "      <td>0</td>\n",
       "    </tr>\n",
       "    <tr>\n",
       "      <td>1</td>\n",
       "      <td>85.0</td>\n",
       "      <td>516.75</td>\n",
       "      <td>56.0</td>\n",
       "      <td>22696.96</td>\n",
       "      <td>0</td>\n",
       "    </tr>\n",
       "    <tr>\n",
       "      <td>2</td>\n",
       "      <td>77.0</td>\n",
       "      <td>467.66</td>\n",
       "      <td>86.0</td>\n",
       "      <td>21060.45</td>\n",
       "      <td>0</td>\n",
       "    </tr>\n",
       "    <tr>\n",
       "      <td>3</td>\n",
       "      <td>106.0</td>\n",
       "      <td>745.53</td>\n",
       "      <td>81.0</td>\n",
       "      <td>8437.39</td>\n",
       "      <td>1</td>\n",
       "    </tr>\n",
       "    <tr>\n",
       "      <td>4</td>\n",
       "      <td>66.0</td>\n",
       "      <td>418.74</td>\n",
       "      <td>1.0</td>\n",
       "      <td>14502.75</td>\n",
       "      <td>0</td>\n",
       "    </tr>\n",
       "  </tbody>\n",
       "</table>\n",
       "</div>"
      ],
      "text/plain": [
       "   calls  minutes  messages   mb_used  is_ultra\n",
       "0   40.0   311.90      83.0  19915.42         0\n",
       "1   85.0   516.75      56.0  22696.96         0\n",
       "2   77.0   467.66      86.0  21060.45         0\n",
       "3  106.0   745.53      81.0   8437.39         1\n",
       "4   66.0   418.74       1.0  14502.75         0"
      ]
     },
     "execution_count": 3,
     "metadata": {},
     "output_type": "execute_result"
    }
   ],
   "source": [
    "users_behavior.head()"
   ]
  },
  {
   "cell_type": "markdown",
   "metadata": {},
   "source": [
    "## 2. Разбейте данные на выборки"
   ]
  },
  {
   "cell_type": "code",
   "execution_count": 4,
   "metadata": {},
   "outputs": [],
   "source": [
    "# 60% train, 20% valid, 20% test\n",
    "df_train, df_valid = train_test_split(users_behavior, test_size=0.4, random_state=12345)\n",
    "df_valid,df_test = train_test_split(df_valid, test_size=0.5, random_state=12345)"
   ]
  },
  {
   "cell_type": "code",
   "execution_count": 5,
   "metadata": {},
   "outputs": [],
   "source": [
    "# Тренировочные данные\n",
    "feature_train = df_train.drop('is_ultra', axis=1)\n",
    "target_train = df_train['is_ultra']\n",
    "# Валидационные данные\n",
    "feature_valid = df_valid.drop('is_ultra', axis=1)\n",
    "target_valid = df_valid['is_ultra']\n",
    "# Тестовые данные\n",
    "feature_test = df_test.drop('is_ultra', axis=1)\n",
    "target_test = df_test['is_ultra']"
   ]
  },
  {
   "cell_type": "markdown",
   "metadata": {},
   "source": [
    "## 3. Исследуйте модели"
   ]
  },
  {
   "cell_type": "code",
   "execution_count": 6,
   "metadata": {},
   "outputs": [
    {
     "name": "stdout",
     "output_type": "stream",
     "text": [
      "DecisionTreeClassifier. max_depth = 1; accuracy = 0.7542768273716952\n",
      "DecisionTreeClassifier. max_depth = 2; accuracy = 0.7822706065318819\n",
      "DecisionTreeClassifier. max_depth = 3; accuracy = 0.7853810264385692\n",
      "DecisionTreeClassifier. max_depth = 4; accuracy = 0.7791601866251944\n",
      "DecisionTreeClassifier. max_depth = 5; accuracy = 0.7791601866251944\n"
     ]
    }
   ],
   "source": [
    "# Исследуем модель Дерево принятия решения\n",
    "for i in range(1, 6):\n",
    "    dtc_model = DecisionTreeClassifier(max_depth=i, random_state=12345)\n",
    "    dtc_model.fit(feature_train, target_train)\n",
    "    \n",
    "    dtc_valid_predictions = dtc_model.predict(feature_valid)\n",
    "    accuracy = accuracy_score(target_valid, dtc_valid_predictions)\n",
    "    print(f\"DecisionTreeClassifier. max_depth = {i}; accuracy = {accuracy}\")"
   ]
  },
  {
   "cell_type": "code",
   "execution_count": 7,
   "metadata": {},
   "outputs": [
    {
     "name": "stdout",
     "output_type": "stream",
     "text": [
      "RandomForestClassifier, estimators=1, score=0.7107309486780715\n",
      "RandomForestClassifier, estimators=2, score=0.7636080870917574\n",
      "RandomForestClassifier, estimators=3, score=0.7387247278382582\n",
      "RandomForestClassifier, estimators=4, score=0.7713841368584758\n",
      "RandomForestClassifier, estimators=5, score=0.749611197511664\n",
      "RandomForestClassifier, estimators=6, score=0.7807153965785381\n",
      "RandomForestClassifier, estimators=7, score=0.7682737169517885\n",
      "RandomForestClassifier, estimators=8, score=0.7822706065318819\n",
      "RandomForestClassifier, estimators=9, score=0.7729393468118196\n",
      "RandomForestClassifier, estimators=10, score=0.7853810264385692\n"
     ]
    }
   ],
   "source": [
    "# Исследуем модель Случайный лес с количеством estimators от 1 до 10\n",
    "for i in range(1, 11):\n",
    "    rf_model = RandomForestClassifier(random_state=12345, n_estimators=i)\n",
    "    rf_model.fit(feature_train, target_train)\n",
    "    rf_valid_predictions = rf_model.predict(feature_valid)\n",
    "    score = accuracy_score( target_valid, rf_valid_predictions)\n",
    "    print(f'RandomForestClassifier, estimators={i}, score={score}')"
   ]
  },
  {
   "cell_type": "code",
   "execution_count": 8,
   "metadata": {},
   "outputs": [
    {
     "name": "stdout",
     "output_type": "stream",
     "text": [
      "RandomForestClassifier, estimators=10, score=0.7853810264385692\n",
      "RandomForestClassifier, estimators=20, score=0.7869362363919129\n",
      "RandomForestClassifier, estimators=30, score=0.7838258164852255\n",
      "RandomForestClassifier, estimators=40, score=0.7838258164852255\n",
      "RandomForestClassifier, estimators=50, score=0.7916018662519441\n",
      "RandomForestClassifier, estimators=60, score=0.7853810264385692\n",
      "RandomForestClassifier, estimators=70, score=0.7791601866251944\n",
      "RandomForestClassifier, estimators=80, score=0.7822706065318819\n",
      "RandomForestClassifier, estimators=90, score=0.7838258164852255\n",
      "RandomForestClassifier, estimators=100, score=0.7853810264385692\n"
     ]
    }
   ],
   "source": [
    "# Исследуем модель Случайный лес с количеством estimators от 10 до 100\n",
    "for i in range(10, 101, 10):\n",
    "    rf_model = RandomForestClassifier(random_state=12345, n_estimators=i)\n",
    "    rf_model.fit(feature_train, target_train)\n",
    "    rf_valid_predictions = rf_model.predict(feature_valid)\n",
    "    score = accuracy_score( target_valid, rf_valid_predictions)\n",
    "    print(f'RandomForestClassifier, estimators={i}, score={score}')"
   ]
  },
  {
   "cell_type": "code",
   "execution_count": 9,
   "metadata": {},
   "outputs": [
    {
     "name": "stdout",
     "output_type": "stream",
     "text": [
      "Logistic Regression, score = 0.7589424572317263\n"
     ]
    },
    {
     "name": "stderr",
     "output_type": "stream",
     "text": [
      "/opt/conda/lib/python3.7/site-packages/sklearn/linear_model/logistic.py:432: FutureWarning: Default solver will be changed to 'lbfgs' in 0.22. Specify a solver to silence this warning.\n",
      "  FutureWarning)\n"
     ]
    }
   ],
   "source": [
    "# Исследуем модель Логистическая Регрессия\n",
    "log_model = LogisticRegression(random_state=12345)\n",
    "log_model.fit(feature_train, target_train)\n",
    "log_predictions = log_model.predict(feature_valid)\n",
    "score = accuracy_score( target_valid, log_predictions)\n",
    "print(f'Logistic Regression, score = {score}')"
   ]
  },
  {
   "cell_type": "markdown",
   "metadata": {},
   "source": [
    "### Предварительные выводы:  \n",
    "#### Наиболее высокий результат на валидационной выборке показали:\n",
    "---\n",
    "    1) RandomForestClassifier, estimators=50, score=0.7916\n",
    "    2) DecisionTreeClassifier. max_depth = 3; accuracy = 0.785\n",
    "    3) RandomForestClassifier, estimators=10, accuracy_score=0.785\n",
    "    4) DecisionTreeClassifier. max_depth = 2; accuracy = 0.782\n",
    "    5) RandomForestClassifier, estimators=8, accuracy_score=0.782"
   ]
  },
  {
   "cell_type": "markdown",
   "metadata": {},
   "source": [
    "Самый высокий показатель точности был у модели Случайный лес с гиперпараметром n_estimators=50. Эту модель мы будем проверять на тестовой выборке."
   ]
  },
  {
   "cell_type": "markdown",
   "metadata": {},
   "source": [
    "## 4. Проверьте модель на тестовой выборке"
   ]
  },
  {
   "cell_type": "code",
   "execution_count": 10,
   "metadata": {},
   "outputs": [
    {
     "name": "stdout",
     "output_type": "stream",
     "text": [
      "DecisionTreeClassifier. max_depth = 3; accuracy = 0.7931570762052877\n"
     ]
    }
   ],
   "source": [
    "model = RandomForestClassifier(random_state=12345, n_estimators=50)\n",
    "model.fit(feature_train, target_train)\n",
    "predictions = model.predict(feature_test)\n",
    "\n",
    "print(f\"RandomForestClassifier. n_estimators = 50; accuracy = {accuracy_score(target_test, predictions)}\")"
   ]
  },
  {
   "cell_type": "markdown",
   "metadata": {},
   "source": [
    "## 5. (бонус) Проверьте модели на адекватность"
   ]
  },
  {
   "cell_type": "markdown",
   "metadata": {},
   "source": [
    "accuracy модели, использующей случайное предсказание тарифа составляет 0.69\n",
    "accuracy нашей модели 0.7931, что говорит о том, что она адекватней случайного угадывания.\n"
   ]
  },
  {
   "cell_type": "code",
   "execution_count": 11,
   "metadata": {},
   "outputs": [
    {
     "data": {
      "text/plain": [
       "0    0.693528\n",
       "1    0.306472\n",
       "Name: is_ultra, dtype: float64"
      ]
     },
     "execution_count": 11,
     "metadata": {},
     "output_type": "execute_result"
    }
   ],
   "source": [
    "users_behavior['is_ultra'].value_counts(normalize=True)"
   ]
  },
  {
   "cell_type": "markdown",
   "metadata": {},
   "source": []
  },
  {
   "cell_type": "code",
   "execution_count": null,
   "metadata": {},
   "outputs": [],
   "source": []
  }
 ],
 "metadata": {
  "kernelspec": {
   "display_name": "Python 3",
   "language": "python",
   "name": "python3"
  },
  "language_info": {
   "codemirror_mode": {
    "name": "ipython",
    "version": 3
   },
   "file_extension": ".py",
   "mimetype": "text/x-python",
   "name": "python",
   "nbconvert_exporter": "python",
   "pygments_lexer": "ipython3",
   "version": "3.7.2"
  }
 },
 "nbformat": 4,
 "nbformat_minor": 2
}
